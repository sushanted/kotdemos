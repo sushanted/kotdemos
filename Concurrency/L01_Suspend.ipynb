{
 "cells": [
  {
   "cell_type": "markdown",
   "id": "7c0949cf-6dbf-4b07-9fb6-23f9eddb2438",
   "metadata": {},
   "source": [
    "#### Suspend functions\n",
    "These are special functions which can call other suspend functions. They internally accept continuation as a parameter, while calling other suspending functions, they passe their own continuation. If these functions get suspended, the calling thread is freed. The suspended flow is resumed when \"resume\" methods are called on the continuation passed by this function.\n",
    "\n",
    "https://kt.academy/article/cc-under-the-hood"
   ]
  },
  {
   "cell_type": "code",
   "execution_count": 1,
   "id": "68d58fe6-cd09-441e-820a-1978748f02d3",
   "metadata": {},
   "outputs": [],
   "source": [
    "import java.util.*\n",
    "import java.util.concurrent.CountDownLatch\n",
    "import kotlin.coroutines.*\n",
    "import kotlin.concurrent.thread\n",
    "\n",
    "\n",
    "\n",
    "suspend fun susfun(){\n",
    "    println(\"Inside susfun\")\n",
    "}\n",
    "\n",
    "// susfun() : we cannot directly call a suspending function from regular function or lambda\n",
    " \n",
    "\n"
   ]
  },
  {
   "cell_type": "markdown",
   "id": "f02dcccc-030d-450c-883e-163603ea14a9",
   "metadata": {},
   "source": [
    "#### suspend functions can be called from other suspend functions"
   ]
  },
  {
   "cell_type": "code",
   "execution_count": 2,
   "id": "fcdada12-9f85-4c7c-a441-a790d15ef1ac",
   "metadata": {},
   "outputs": [],
   "source": [
    "suspend fun susfunCaller(){\n",
    "    susfun()\n",
    "}"
   ]
  },
  {
   "cell_type": "markdown",
   "id": "995f9e05-65e1-4b00-9e73-abcec0fee0a3",
   "metadata": {},
   "source": [
    "#### suspend functions can be also be called from suspend lambdas"
   ]
  },
  {
   "cell_type": "code",
   "execution_count": 3,
   "id": "ebfdf191-a85b-4210-8137-792a971c201b",
   "metadata": {},
   "outputs": [],
   "source": [
    "// { susfun() } : cannot be called from a regular lambda"
   ]
  },
  {
   "cell_type": "code",
   "execution_count": 4,
   "id": "195a9ab8-8c17-41de-b7ca-82c14ceccd42",
   "metadata": {},
   "outputs": [],
   "source": [
    "val suspendingLambda = suspend{ susfun() }"
   ]
  },
  {
   "cell_type": "code",
   "execution_count": 5,
   "id": "d6daac00-b7f9-4f50-ba84-94ba7b7ba148",
   "metadata": {},
   "outputs": [],
   "source": [
    "// suspendingLambda() : again cannot be called from regular function"
   ]
  },
  {
   "cell_type": "markdown",
   "id": "b5ab1c44-a4aa-42c9-bb79-9c8414bb9dc5",
   "metadata": {},
   "source": [
    "#### Following assignments are equivalent"
   ]
  },
  {
   "cell_type": "code",
   "execution_count": 6,
   "id": "df17c9dd-125d-4f8d-bcdc-865b10ca3b01",
   "metadata": {},
   "outputs": [],
   "source": [
    "val suspendingLambda1 = suspend{ susfun()} // Type inferred from the RHS \n",
    "val suspendingLambda2 : suspend()->Unit = { susfun()} // Type explicitly declared as a suspending lambda\n",
    "\n"
   ]
  },
  {
   "cell_type": "markdown",
   "id": "a137271d-d64d-498a-a7d0-0564d7f68a3b",
   "metadata": {},
   "source": [
    "#### Calling suspending lambda with coroutine using startCoroutine\n",
    "\n",
    "Note that if the suspending function suspends, the calling thread is freed, it continues executing the next code in the calling function. When the suspending function is resumed, next code (after the point of suspension) in suspending function is executed. We can consider the lambda itself as a suspending function and pass it our custom continuation (as in below code), once the lambda completes execution, resumeWith is called on our custom continuation."
   ]
  },
  {
   "cell_type": "code",
   "execution_count": 7,
   "id": "155839bf-2a9c-4488-92f1-1f55a91b09d8",
   "metadata": {},
   "outputs": [
    {
     "name": "stdout",
     "output_type": "stream",
     "text": [
      "Inside susfun\n",
      "resumed\n"
     ]
    }
   ],
   "source": [
    "\n",
    "\n",
    "suspendingLambda.startCoroutine(object : Continuation<Unit>{\n",
    "    \n",
    "           override val context: CoroutineContext\n",
    "               get() = EmptyCoroutineContext\n",
    "\n",
    "           override fun resumeWith(result: Result<Unit>) {\n",
    "               println(\"resumed\") // This is called when suspendingLambda is resumed \n",
    "           }\n",
    "\n",
    "       })\n",
    "\n"
   ]
  },
  {
   "cell_type": "markdown",
   "id": "a8a2fda9-e727-4d5f-9ae1-7c6c0be80ea4",
   "metadata": {},
   "source": [
    "#### A non suspending function capable of running suspending code (as suspending lambda)"
   ]
  },
  {
   "cell_type": "code",
   "execution_count": 8,
   "id": "f384e9f7-e8f1-4eb1-be81-659b7dffe37c",
   "metadata": {},
   "outputs": [],
   "source": [
    "fun launch(suspendingLambda : suspend()->Unit){\n",
    "    suspendingLambda.startCoroutine(object : Continuation<Unit>{\n",
    "    \n",
    "           override val context: CoroutineContext\n",
    "               get() = EmptyCoroutineContext\n",
    "\n",
    "           override fun resumeWith(result: Result<Unit>) {\n",
    "               // Don't do anything\n",
    "           }\n",
    "\n",
    "       })\n",
    "}"
   ]
  },
  {
   "cell_type": "code",
   "execution_count": 9,
   "id": "e057e4ac-8909-4897-8a86-b31ad3e425c3",
   "metadata": {},
   "outputs": [
    {
     "name": "stdout",
     "output_type": "stream",
     "text": [
      "Inside susfun\n"
     ]
    }
   ],
   "source": [
    "launch {\n",
    "    susfun()\n",
    "}"
   ]
  },
  {
   "cell_type": "markdown",
   "id": "204cee9b-c8a5-4939-ae64-3b063ac9cefa",
   "metadata": {},
   "source": [
    "#### Suspend and resume with suspendCoroutine\n",
    "\n",
    "suspendCoroutine executes the lambda providing it the continuation. After lambda execution is complete, the continuation is checked \n",
    "to have been called with result (or exception), if it is, the result is returned to the caller as is, else the calling method\n",
    "is suspended. This suspended method can be resumed later when continuation.resume is called."
   ]
  },
  {
   "cell_type": "code",
   "execution_count": 10,
   "id": "f0759801-5ff6-49a3-b3f3-8a20fd60c69d",
   "metadata": {},
   "outputs": [
    {
     "name": "stdout",
     "output_type": "stream",
     "text": [
      "Before\n",
      "Resuming\n",
      "will resume\n",
      "After\n"
     ]
    }
   ],
   "source": [
    "suspend fun immediateResume() {\n",
    "\n",
    "    println(\"Before\")\n",
    "\n",
    "    // After this call, the lambda passed is called and then immediateResume method is tried to be suspended.\n",
    "    suspendCoroutine<Unit> { continuation ->\n",
    "        println(\"Resuming\")\n",
    "        continuation.resume(Unit) // immediateResume method is not suspended yet, because lambda is still running, but we called resume\n",
    "        println(\"will resume\")\n",
    "    }\n",
    "    // immediateResume method will not suspend because resume was already called in the lambda (and the result (Unit) is already \n",
    "    // available in the continuation after execution of the lambda),\n",
    "    // it will just continue.\n",
    "    println(\"After\")\n",
    "}\n",
    "\n",
    "launch{ immediateResume() }"
   ]
  },
  {
   "cell_type": "code",
   "execution_count": 11,
   "id": "cc5370bc-cba6-4f97-b143-810a09fc7aae",
   "metadata": {},
   "outputs": [
    {
     "name": "stdout",
     "output_type": "stream",
     "text": [
      "Before\n",
      "Resuming\n",
      "will resume\n",
      "result Hello\n"
     ]
    }
   ],
   "source": [
    "suspend fun immediateResumeWithValue() {\n",
    "\n",
    "    println(\"Before\")\n",
    "\n",
    "    // After this call, the lambda passed is called and then the immediateResumeWithValue method is tried to be suspended.\n",
    "    val result = suspendCoroutine<String> { continuation ->\n",
    "        println(\"Resuming\")\n",
    "        continuation.resume(\"Hello\") // The immediateResumeWithValue method is not suspended yet, because lambda is still running, but we called resume\n",
    "        println(\"will resume\")\n",
    "    }\n",
    "     // immediateResumeWithValue method will not suspend because resume was already called in the lambda (and the result (Unit) is already \n",
    "    // available in the continuation after execution of the lambda),\n",
    "    // it will just continue, because it can continue with the result.\n",
    "    println(\"result $result\")\n",
    "}\n",
    "\n",
    "launch { immediateResumeWithValue() } "
   ]
  },
  {
   "cell_type": "code",
   "execution_count": 12,
   "id": "9aa222e2-fc1d-4477-a39a-aa2edf1f3c28",
   "metadata": {},
   "outputs": [
    {
     "name": "stdout",
     "output_type": "stream",
     "text": [
      "Before in thread: Thread-49\n",
      "Starting thread: ResumingThread\n",
      "Called resume\n",
      "At the end of thread: ResumingThread\n",
      "Continued in thread: Thread-49\n"
     ]
    }
   ],
   "source": [
    "suspend fun resumeEarlyNoSuspend() {\n",
    "\n",
    "    println(\"Before in thread: ${Thread.currentThread().name}\")\n",
    "\n",
    "    suspendCoroutine<Unit> { continuation ->\n",
    "        thread(name=\"ResumingThread\") {\n",
    "            println(\"Starting thread: ${Thread.currentThread().name}\")\n",
    "\n",
    "            // call resume before resumeEarlyNoSuspend method suspends\n",
    "            continuation.resume(Unit)\n",
    "            println(\"Called resume\")\n",
    "            println(\"At the end of thread: ${Thread.currentThread().name}\")\n",
    "        }\n",
    "\n",
    "        // Don't give resumeEarlyNoSuspend method a chance to suspend\n",
    "        Thread.sleep(2000)\n",
    "    }\n",
    "\n",
    "    // This code will run in calling thread itself, because suspend didn't happen\n",
    "    println(\"Continued in thread: ${Thread.currentThread().name}\")\n",
    "\n",
    "}\n",
    "\n",
    "launch{ resumeEarlyNoSuspend() } "
   ]
  },
  {
   "cell_type": "code",
   "execution_count": 13,
   "id": "61030dc0-3162-4298-a581-60df66d61456",
   "metadata": {},
   "outputs": [
    {
     "name": "stdout",
     "output_type": "stream",
     "text": [
      "Before in thread: Thread-54\n",
      "Starting thread: ResumingThread\n",
      "Resumed in thread: ResumingThread\n",
      "At the end of thread: ResumingThread\n"
     ]
    }
   ],
   "source": [
    "suspend fun resumeInAnotherThread() {\n",
    "\n",
    "    println(\"Before in thread: ${Thread.currentThread().name}\")\n",
    "\n",
    "    suspendCoroutine<Unit> { continuation ->\n",
    "        thread(name=\"ResumingThread\") {\n",
    "            println(\"Starting thread: ${Thread.currentThread().name}\")\n",
    "\n",
    "            Thread.sleep(2000) // Give main method a chance to suspend\n",
    "            // Now resume the suspended flow\n",
    "            continuation.resume(Unit)\n",
    "            // This will be printed after completion of suspended flow\n",
    "            println(\"At the end of thread: ${Thread.currentThread().name}\")\n",
    "        }\n",
    "    }\n",
    "\n",
    "    // All code after suspension will run in the resuming thread.\n",
    "    println(\"Resumed in thread: ${Thread.currentThread().name}\")\n",
    "\n",
    "}\n",
    "\n",
    "launch { resumeInAnotherThread() } \n",
    "Thread.sleep(3000)"
   ]
  },
  {
   "cell_type": "code",
   "execution_count": 14,
   "id": "26309f15-f482-4856-8a99-98fcc490854e",
   "metadata": {},
   "outputs": [
    {
     "name": "stdout",
     "output_type": "stream",
     "text": [
      "Before in thread: Thread-59\n",
      "Starting thread: ResumingThread\n",
      "Resumed in thread: ResumingThread, got msg Hello world\n",
      "At the end of thread: ResumingThread\n"
     ]
    }
   ],
   "source": [
    "suspend fun resumeInAnotherThreadWithValue() {\n",
    "\n",
    "    println(\"Before in thread: ${Thread.currentThread().name}\")\n",
    "\n",
    "    val msg = suspendCoroutine<String> { continuation ->\n",
    "        thread(name=\"ResumingThread\") {\n",
    "            println(\"Starting thread: ${Thread.currentThread().name}\")\n",
    "\n",
    "            Thread.sleep(2000) // Give main method a chance to suspend\n",
    "            // Now resume the suspended flow\n",
    "            continuation.resume(\"Hello world\")\n",
    "            // This will be printed after completion of suspended flow\n",
    "            println(\"At the end of thread: ${Thread.currentThread().name}\")\n",
    "        }\n",
    "    }\n",
    "\n",
    "    // All code after suspension will run in the resuming thread.\n",
    "    println(\"Resumed in thread: ${Thread.currentThread().name}, got msg $msg\")\n",
    "\n",
    "}\n",
    "\n",
    "launch{ resumeInAnotherThreadWithValue() }\n",
    "Thread.sleep(3000)"
   ]
  },
  {
   "cell_type": "markdown",
   "id": "b62843d4-77d4-480a-8427-baa4f893df89",
   "metadata": {},
   "source": [
    "#### suspending delay function: while delay is delaying, main thread can continue"
   ]
  },
  {
   "cell_type": "code",
   "execution_count": 15,
   "id": "78a38691-1201-4681-aca2-1d68034c69c2",
   "metadata": {},
   "outputs": [],
   "source": [
    "suspend fun delay(millis : Long){\n",
    "\n",
    "    suspendCoroutine<Unit> {\n",
    "        thread {\n",
    "            Thread.sleep(millis) // best practice is to use a common SchedulingThreadPoolExecutor than creating a thread each time\n",
    "            it.resume(Unit)\n",
    "        }\n",
    "\n",
    "    }\n",
    "    \n",
    "}"
   ]
  },
  {
   "cell_type": "markdown",
   "id": "4acf1fb6-291f-408d-bcfc-63bcd328d92c",
   "metadata": {},
   "source": [
    "#### launch coroutine builder"
   ]
  },
  {
   "cell_type": "code",
   "execution_count": null,
   "id": "8bbb370f-42cf-4f06-9088-183324c29878",
   "metadata": {},
   "outputs": [],
   "source": []
  },
  {
   "cell_type": "code",
   "execution_count": 16,
   "id": "7b4807c8-0a53-4e16-9886-577d0befe271",
   "metadata": {},
   "outputs": [
    {
     "name": "stdout",
     "output_type": "stream",
     "text": [
      "Tue Feb 08 22:47:01 IST 2022 first complete\n",
      "Tue Feb 08 22:47:01 IST 2022 second complete\n",
      "Tue Feb 08 22:47:01 IST 2022 third complete\n"
     ]
    }
   ],
   "source": [
    "launch {\n",
    "    delay(1000)\n",
    "    println(\"${Date()} first complete\") \n",
    "} // Code doesn't wait for resumeInAnotherThread() to complete\n",
    "launch {\n",
    "    delay(1000)\n",
    "    println(\"${Date()} second complete\") \n",
    "} // Resume happens in another threads\n",
    "launch {\n",
    "    delay(1000)\n",
    "    println(\"${Date()} third complete\") \n",
    "}\n",
    "Thread.sleep(2000)"
   ]
  },
  {
   "cell_type": "markdown",
   "id": "8ef8d42a-6865-4bd5-85e8-524ef9d2d8c5",
   "metadata": {},
   "source": [
    "##### Note above that all launches were started almost simultaneously because suspending nature of launch, you can see all completing almost simultaneously and even the order is not deterministic."
   ]
  },
  {
   "cell_type": "markdown",
   "id": "0402d7e3-ce21-4269-8a9e-3508cad4ac25",
   "metadata": {},
   "source": [
    "#### runBlocking coroutine builder"
   ]
  },
  {
   "cell_type": "code",
   "execution_count": 17,
   "id": "f0745aad-d032-4d51-a81b-09a8e1f0985c",
   "metadata": {},
   "outputs": [],
   "source": [
    "fun runBlocking(code:suspend()->Unit){\n",
    "\n",
    "    val cdl = CountDownLatch(1)\n",
    "\n",
    "    code.startCoroutine(object: Continuation<Unit>{\n",
    "        override val context: CoroutineContext\n",
    "            get() = EmptyCoroutineContext\n",
    "\n",
    "        override fun resumeWith(result: Result<Unit>) {\n",
    "            cdl.countDown()\n",
    "        }\n",
    "\n",
    "    })\n",
    "\n",
    "    cdl.await()\n",
    "}"
   ]
  },
  {
   "cell_type": "code",
   "execution_count": 18,
   "id": "426e9fb0-5c09-40f4-becd-326935f46aee",
   "metadata": {},
   "outputs": [
    {
     "name": "stdout",
     "output_type": "stream",
     "text": [
      "Tue Feb 08 22:47:03 IST 2022 first complete\n",
      "Tue Feb 08 22:47:04 IST 2022 second complete\n",
      "Tue Feb 08 22:47:05 IST 2022 third complete\n"
     ]
    }
   ],
   "source": [
    "runBlocking {\n",
    "    delay(1000)\n",
    "    println(\"${Date()} first complete\") \n",
    "} // Code doesn't wait for resumeInAnotherThread() to complete\n",
    "runBlocking {\n",
    "    delay(1000)\n",
    "    println(\"${Date()} second complete\") \n",
    "} // Resume happens in another threads\n",
    "runBlocking {\n",
    "    delay(1000)\n",
    "    println(\"${Date()} third complete\") \n",
    "}\n",
    "Thread.sleep(4000)"
   ]
  },
  {
   "cell_type": "markdown",
   "id": "bb3e1422-307d-47a9-91ef-22125c3a8702",
   "metadata": {},
   "source": [
    "##### Note above that all launches were started one after another due to blocking nature of runBlocking, you can see all completing one after another and the order is maintained."
   ]
  }
 ],
 "metadata": {
  "kernelspec": {
   "display_name": "Kotlin",
   "language": "kotlin",
   "name": "kotlin"
  },
  "language_info": {
   "codemirror_mode": "text/x-kotlin",
   "file_extension": ".kt",
   "mimetype": "text/x-kotlin",
   "name": "kotlin",
   "nbconvert_exporter": "",
   "pygments_lexer": "kotlin",
   "version": "1.6.20-dev-3702"
  }
 },
 "nbformat": 4,
 "nbformat_minor": 5
}
