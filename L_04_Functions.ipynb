{
 "cells": [
  {
   "cell_type": "markdown",
   "id": "4fc9ec21-0642-43c9-8301-8f4dda9cb8b1",
   "metadata": {},
   "source": [
    "### Function declarations"
   ]
  },
  {
   "cell_type": "markdown",
   "id": "747e319d-42de-448d-a1e4-d1a852529dce",
   "metadata": {},
   "source": [
    "##### Functions with block body must always specify return types explicitly, unless it's intended for them to return Unit, in which case specifying the return type is optional."
   ]
  },
  {
   "cell_type": "code",
   "execution_count": 1,
   "id": "a218915c-36f6-401b-baf3-724d915ac688",
   "metadata": {},
   "outputs": [],
   "source": [
    "fun greet(message: String):Unit{ // :Unit is optional and inferred\n",
    "    \n",
    "    println(message)\n",
    "}"
   ]
  },
  {
   "cell_type": "code",
   "execution_count": 2,
   "id": "e3e5eff0-d117-494b-9db9-75dbd69dcd01",
   "metadata": {},
   "outputs": [
    {
     "name": "stdout",
     "output_type": "stream",
     "text": [
      "hello\n"
     ]
    }
   ],
   "source": [
    "greet(\"hello\")"
   ]
  },
  {
   "cell_type": "code",
   "execution_count": 3,
   "id": "597c0366-ea69-48c9-98d0-9dae42c9e34a",
   "metadata": {},
   "outputs": [],
   "source": [
    "fun sum(a:Int,b:Int):Int{ // Int is required, the function body can be complext and could be difficult to infer the return type.\n",
    "    return a+b\n",
    "}"
   ]
  },
  {
   "cell_type": "code",
   "execution_count": 4,
   "id": "dccbabfa-0884-4489-b0a7-ae8fc4314779",
   "metadata": {},
   "outputs": [],
   "source": [
    "fun add(a:Int,b:Int) = a+b  // return type is optional and inferred from the statement"
   ]
  },
  {
   "cell_type": "code",
   "execution_count": 5,
   "id": "d8ce3686-0c8d-4f5a-b591-99b7fe3361d7",
   "metadata": {},
   "outputs": [
    {
     "data": {
      "text/plain": [
       "6"
      ]
     },
     "execution_count": 5,
     "metadata": {},
     "output_type": "execute_result"
    }
   ],
   "source": [
    "fun max(a:Int,b:Int,c:Int) = if(a>b) (if(a>c) a else c) else (if (b>c) b else c)\n",
    "max(3,6,2)"
   ]
  },
  {
   "cell_type": "code",
   "execution_count": 20,
   "id": "3ecdcb4e-381f-485c-9703-e0f6bce203cb",
   "metadata": {},
   "outputs": [],
   "source": [
    "fun process(a: Int) = if(a>2) \"a>2\" else 34  // The return type is 'Any'\n",
    "fun processNumber(a: Int) = if(a>2) 3.5f else 34  // The return type is 'Any'\n",
    "\n"
   ]
  },
  {
   "cell_type": "code",
   "execution_count": 6,
   "id": "e88b09f3-2b7a-400e-8a14-53da69509576",
   "metadata": {},
   "outputs": [
    {
     "data": {
      "text/plain": [
       "9"
      ]
     },
     "execution_count": 6,
     "metadata": {},
     "output_type": "execute_result"
    }
   ],
   "source": [
    "fun operate(a:Int,b:Int,op:Char = '+') = \n",
    "    when(op){\n",
    "        '+' -> a+b\n",
    "        '-' -> a-b\n",
    "        '*' -> a*b\n",
    "        '/' -> a/b\n",
    "        else -> a+b\n",
    "      \n",
    "    }\n",
    "\n",
    "\n",
    "operate(3,5,'+')\n",
    "operate(5,5,'*')\n",
    "operate(4,5)"
   ]
  },
  {
   "cell_type": "code",
   "execution_count": 7,
   "id": "0e7f2522-a12b-4c56-98c3-41623cdbfc2b",
   "metadata": {},
   "outputs": [
    {
     "name": "stdout",
     "output_type": "stream",
     "text": [
      "-4 is negative\n"
     ]
    },
    {
     "data": {
      "text/plain": [
       "4"
      ]
     },
     "execution_count": 7,
     "metadata": {},
     "output_type": "execute_result"
    }
   ],
   "source": [
    "// Using a complex statement as a function body\n",
    "fun absolute(a:Int) = if (a>0 ){\n",
    "    println(\"$a is positive\")\n",
    "    a\n",
    "} else {\n",
    "    println(\"$a is negative\")\n",
    "    -a\n",
    "}\n",
    "absolute(-4)"
   ]
  },
  {
   "cell_type": "markdown",
   "id": "8ec638eb-2e65-401f-9e61-360c233c0852",
   "metadata": {},
   "source": [
    "### Extension functions"
   ]
  },
  {
   "cell_type": "code",
   "execution_count": null,
   "id": "d08fd8a5-3de7-43e0-b718-341182ffae55",
   "metadata": {},
   "outputs": [],
   "source": []
  },
  {
   "cell_type": "code",
   "execution_count": 8,
   "id": "4cfc429b-5e79-4432-be01-da1a65ffad0c",
   "metadata": {},
   "outputs": [],
   "source": [
    "fun String.isPalindrome():Boolean { return this.reversed()==this}"
   ]
  },
  {
   "cell_type": "code",
   "execution_count": 9,
   "id": "6a7628a2-6623-42e4-9ff8-f49216051774",
   "metadata": {},
   "outputs": [
    {
     "data": {
      "text/plain": [
       "false"
      ]
     },
     "execution_count": 9,
     "metadata": {},
     "output_type": "execute_result"
    }
   ],
   "source": [
    "\"vdf\".isPalindrome()"
   ]
  },
  {
   "cell_type": "code",
   "execution_count": null,
   "id": "5d25c3a2-3c6b-4546-8db0-911315597012",
   "metadata": {},
   "outputs": [],
   "source": []
  }
 ],
 "metadata": {
  "kernelspec": {
   "display_name": "Kotlin",
   "language": "kotlin",
   "name": "kotlin"
  },
  "language_info": {
   "codemirror_mode": "text/x-kotlin",
   "file_extension": ".kt",
   "mimetype": "text/x-kotlin",
   "name": "kotlin",
   "nbconvert_exporter": "",
   "pygments_lexer": "kotlin",
   "version": "1.6.20-dev-3702"
  }
 },
 "nbformat": 4,
 "nbformat_minor": 5
}
