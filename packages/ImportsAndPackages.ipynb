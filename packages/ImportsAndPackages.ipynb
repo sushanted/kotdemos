{
 "cells": [
  {
   "cell_type": "code",
   "execution_count": 11,
   "id": "df4bdfe7-98ac-479c-a044-9db23195108e",
   "metadata": {},
   "outputs": [],
   "source": [
    "import kotlin.math.PI // import constants\n",
    "import kotlin.math.E\n",
    "import kotlin.math.abs // import functions\n",
    "import kotlin.math.min\n",
    "import kotlin.math.absoluteValue // import value"
   ]
  },
  {
   "cell_type": "code",
   "execution_count": 7,
   "id": "74a8916e-653f-494f-b45f-7d2e7b045cdf",
   "metadata": {},
   "outputs": [
    {
     "name": "stdout",
     "output_type": "stream",
     "text": [
      "5.859874482048838\n"
     ]
    }
   ],
   "source": [
    "println(PI+E)"
   ]
  },
  {
   "cell_type": "code",
   "execution_count": 8,
   "id": "a0bced53-d549-47ac-9a19-42abce246e8e",
   "metadata": {},
   "outputs": [
    {
     "name": "stdout",
     "output_type": "stream",
     "text": [
      "45\n"
     ]
    }
   ],
   "source": [
    "println(abs(-45))"
   ]
  },
  {
   "cell_type": "code",
   "execution_count": 9,
   "id": "fefa1f1f-00b2-42d1-940e-865231567bc4",
   "metadata": {},
   "outputs": [
    {
     "name": "stdout",
     "output_type": "stream",
     "text": [
      "2\n"
     ]
    }
   ],
   "source": [
    "println(min(2,3))"
   ]
  },
  {
   "cell_type": "code",
   "execution_count": 14,
   "id": "b131d5d7-d6c3-447a-9197-bf1ac78c28f7",
   "metadata": {},
   "outputs": [
    {
     "name": "stdout",
     "output_type": "stream",
     "text": [
      "5\n"
     ]
    }
   ],
   "source": [
    "println((-5).absoluteValue) // Extension value defined for Int in kotlin.math library"
   ]
  },
  {
   "cell_type": "code",
   "execution_count": null,
   "id": "e4c636b7-872e-4826-ba4a-cca1ccb6b678",
   "metadata": {},
   "outputs": [],
   "source": []
  }
 ],
 "metadata": {
  "kernelspec": {
   "display_name": "Kotlin",
   "language": "kotlin",
   "name": "kotlin"
  },
  "language_info": {
   "codemirror_mode": "text/x-kotlin",
   "file_extension": ".kt",
   "mimetype": "text/x-kotlin",
   "name": "kotlin",
   "nbconvert_exporter": "",
   "pygments_lexer": "kotlin",
   "version": "1.6.20-dev-3702"
  }
 },
 "nbformat": 4,
 "nbformat_minor": 5
}
