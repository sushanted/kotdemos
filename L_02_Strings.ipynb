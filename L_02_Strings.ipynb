{
 "cells": [
  {
   "cell_type": "markdown",
   "id": "6e7e03b1-8496-490f-a0d0-156ed23e41dc",
   "metadata": {},
   "source": [
    "## Indexing\n",
    "\n"
   ]
  },
  {
   "cell_type": "code",
   "execution_count": 1,
   "id": "2720a997-fa7e-456a-9c29-86818cb49dc2",
   "metadata": {},
   "outputs": [
    {
     "name": "stdout",
     "output_type": "stream",
     "text": [
      "i\n",
      "s\n",
      "g\n"
     ]
    }
   ],
   "source": [
    "var str = \"string\"\n",
    "println(str[3])\n",
    "println(str.first()) // special access\n",
    "println(str.last()) // special access, better than str[str.length - 1]\n",
    "println(\"string\"[4])  // works on string literal as well"
   ]
  },
  {
   "cell_type": "markdown",
   "id": "dec44539-5942-497a-80a1-b8f5db8e461d",
   "metadata": {},
   "source": [
    "## Interpolation"
   ]
  },
  {
   "cell_type": "markdown",
   "id": "a7554f4d-8723-416a-a716-bb06c096cdf7",
   "metadata": {},
   "source": [
    "Interpolation is like concatenation of strings and code in between the strings. The code is actually compiled. This is similar to python f'{varName}' and f'{varName.method()}' syntax."
   ]
  },
  {
   "cell_type": "code",
   "execution_count": 2,
   "id": "504535fa-b08f-4316-a094-b163712691ca",
   "metadata": {},
   "outputs": [
    {
     "name": "stdout",
     "output_type": "stream",
     "text": [
      "say hello world in 11 characters\n"
     ]
    }
   ],
   "source": [
    "var hello = \"hello\"\n",
    "var helloWorld = \"$hello world\" // simple variables\n",
    "println(\"say $helloWorld in ${helloWorld.length} characters\") // complex expressions"
   ]
  },
  {
   "cell_type": "code",
   "execution_count": 3,
   "id": "8faaf7d7-2b91-4259-823a-f8600ad9287b",
   "metadata": {},
   "outputs": [],
   "source": [
    "fun getText():String{\n",
    "    return \"hello\"\n",
    "}"
   ]
  },
  {
   "cell_type": "code",
   "execution_count": 4,
   "id": "f7361ae2-d461-4a37-8b04-70a3cdfa1af6",
   "metadata": {},
   "outputs": [
    {
     "name": "stdout",
     "output_type": "stream",
     "text": [
      "say HELLO world\n"
     ]
    }
   ],
   "source": [
    "println(\"say ${getText().toUpperCase()} world\") // Evan can call methods inside interpolation"
   ]
  },
  {
   "cell_type": "code",
   "execution_count": 5,
   "id": "a1b531c4-1233-49fc-9e21-714f795cabf3",
   "metadata": {},
   "outputs": [
    {
     "name": "stdout",
     "output_type": "stream",
     "text": [
      "$hello\n"
     ]
    }
   ],
   "source": [
    "println(\"$\"+\"hello\") // This will not be interpolated as a complete single string, but two different strings."
   ]
  },
  {
   "cell_type": "code",
   "execution_count": 19,
   "id": "1962ffb3-cfab-4b3c-8e8c-32a19927f76c",
   "metadata": {},
   "outputs": [
    {
     "name": "stdout",
     "output_type": "stream",
     "text": [
      "hello\n"
     ]
    }
   ],
   "source": [
    "var one = \"$hello\" // interpolated value is assigned to one\n",
    "var two = \"$one\"\n",
    "println(two)"
   ]
  },
  {
   "cell_type": "code",
   "execution_count": 26,
   "id": "b2a3719d-4116-49ae-a9c5-480aa50b85a3",
   "metadata": {},
   "outputs": [
    {
     "name": "stdout",
     "output_type": "stream",
     "text": [
      "The number 3 is odd\n",
      "The number 3 is odd\n"
     ]
    }
   ],
   "source": [
    "val number = 3\n",
    "println(\"The number $number is ${if (number%2==0) \"even\" else \"odd\"}\") // Double quotes are allowed inside ${}\n",
    "// This is equivalent to:\n",
    "println(\"The number \"+number+\" is \"+if (number%2==0) \"even\" else \"odd\")"
   ]
  },
  {
   "cell_type": "markdown",
   "id": "80d006f5-9489-4d28-bea2-96e1fd8041bf",
   "metadata": {},
   "source": [
    "## Checking Blank/Empty"
   ]
  },
  {
   "cell_type": "code",
   "execution_count": 6,
   "id": "c7773127-1d09-4a27-afc1-af06babd8d99",
   "metadata": {},
   "outputs": [
    {
     "name": "stdout",
     "output_type": "stream",
     "text": [
      "It is blank\n"
     ]
    }
   ],
   "source": [
    "if(\"\".isBlank()){\n",
    "    println(\"It is blank\")\n",
    "}"
   ]
  },
  {
   "cell_type": "code",
   "execution_count": 7,
   "id": "c77150b5-41c9-47c4-8315-88772b86bbce",
   "metadata": {},
   "outputs": [
    {
     "name": "stdout",
     "output_type": "stream",
     "text": [
      "It is blank\n"
     ]
    }
   ],
   "source": [
    "if(\" \\t\".isBlank()){\n",
    "    println(\"It is blank\")\n",
    "}"
   ]
  },
  {
   "cell_type": "code",
   "execution_count": 8,
   "id": "380b7be1-a64d-4873-8394-b7fedac8c465",
   "metadata": {},
   "outputs": [
    {
     "name": "stdout",
     "output_type": "stream",
     "text": [
      "It is not empty, could be blank\n"
     ]
    }
   ],
   "source": [
    "if(!\" \\t\".isEmpty()){\n",
    "    println(\"It is not empty, could be blank\")\n",
    "}"
   ]
  },
  {
   "cell_type": "code",
   "execution_count": 9,
   "id": "b962e37a-8e4a-4163-982b-83640507ec8e",
   "metadata": {},
   "outputs": [
    {
     "name": "stdout",
     "output_type": "stream",
     "text": [
      "It was blank\n"
     ]
    }
   ],
   "source": [
    "println(\"\".ifBlank({ \"It was blank\"}))\n",
    "\n",
    "// Forward reference, {\"It is blank\"} is a lambda expression, equivalent to java's ()->\"It was blank\""
   ]
  },
  {
   "cell_type": "markdown",
   "id": "20c6bb5b-bddb-428a-ad07-0147cb2649c1",
   "metadata": {},
   "source": [
    "## Remove surrounding"
   ]
  },
  {
   "cell_type": "code",
   "execution_count": 10,
   "id": "2e4ecdcd-1688-4a39-b62b-22b2fbf2a8fa",
   "metadata": {},
   "outputs": [
    {
     "name": "stdout",
     "output_type": "stream",
     "text": [
      "quoted\n",
      "quoted\n"
     ]
    }
   ],
   "source": [
    "println(\"'quoted'\".removeSurrounding(\"'\"))\n",
    "println(\"##quoted##\".removeSurrounding(\"##\"))"
   ]
  },
  {
   "cell_type": "markdown",
   "id": "da8d9193-aa21-4288-bd59-ed2bf721b338",
   "metadata": {},
   "source": [
    "## Raw Strings"
   ]
  },
  {
   "cell_type": "code",
   "execution_count": 11,
   "id": "e4b88d88-bb12-404c-a4e9-b7733466c964",
   "metadata": {},
   "outputs": [
    {
     "name": "stdout",
     "output_type": "stream",
     "text": [
      "this \n",
      "can\n",
      "have \n",
      "multiple\n",
      "lines\n"
     ]
    }
   ],
   "source": [
    "// This is same as python for multiline, but python has r\"ab\\tc\" to declare a raw string\n",
    "\n",
    "var multiline = \"\"\"this \n",
    "can\n",
    "have \n",
    "multiple\n",
    "lines\"\"\"\n",
    "\n",
    "println(multiline)"
   ]
  },
  {
   "cell_type": "code",
   "execution_count": 12,
   "id": "c161db81-49f4-42ed-aef3-17bc834d9d21",
   "metadata": {},
   "outputs": [
    {
     "name": "stdout",
     "output_type": "stream",
     "text": [
      "He said,\"Hello\"\n"
     ]
    }
   ],
   "source": [
    "var rawString = \"\"\"He said,\"Hello\"\"\"\" // \",\\ have no special meaning, they are just like any characters\n",
    "\n",
    "println(rawString) "
   ]
  },
  {
   "cell_type": "code",
   "execution_count": 13,
   "id": "6f4cd47d-0322-4e78-8f32-65ff6c7501e6",
   "metadata": {},
   "outputs": [
    {
     "name": "stdout",
     "output_type": "stream",
     "text": [
      "{\n",
      "  \"array\": [\n",
      "    1,\n",
      "    2,\n",
      "    3\n",
      "  ],\n",
      "  \"boolean\": true,\n",
      "  \"color\": \"gold\",\n",
      "  \"object\": {\n",
      "    \"a\": \"b\",\n",
      "    \"c\": \"d\"\n",
      "  },\n",
      "  \"string\": \"Hello World\"\n",
      "}\n"
     ]
    }
   ],
   "source": [
    "// Admire the readability\n",
    "var json = \"\"\"{\n",
    "  \"array\": [\n",
    "    1,\n",
    "    2,\n",
    "    3\n",
    "  ],\n",
    "  \"boolean\": true,\n",
    "  \"color\": \"gold\",\n",
    "  \"object\": {\n",
    "    \"a\": \"b\",\n",
    "    \"c\": \"d\"\n",
    "  },\n",
    "  \"string\": \"Hello World\"\n",
    "}\"\"\"\n",
    "\n",
    "println(json)"
   ]
  },
  {
   "cell_type": "markdown",
   "id": "865c574a-3a60-4aa0-af17-0bcb761a2982",
   "metadata": {},
   "source": [
    "### Split"
   ]
  },
  {
   "cell_type": "code",
   "execution_count": 14,
   "id": "92004fb2-c431-4064-9726-d938e5794e3b",
   "metadata": {},
   "outputs": [
    {
     "name": "stdout",
     "output_type": "stream",
     "text": [
      "[10, 1, 23, 25]\n"
     ]
    }
   ],
   "source": [
    "println(\"10.1.23.25\".split(\".\"))  // Split doesn't take regex by default it is string"
   ]
  },
  {
   "cell_type": "code",
   "execution_count": 15,
   "id": "bd755b30-2ceb-4a64-a922-4cdbb3909825",
   "metadata": {},
   "outputs": [
    {
     "name": "stdout",
     "output_type": "stream",
     "text": [
      "[10, 1, 23, 25]\n"
     ]
    }
   ],
   "source": [
    "println(\"10.1.23.25\".split(Regex(\"\"\"\\D+\"\"\")))"
   ]
  },
  {
   "cell_type": "code",
   "execution_count": 16,
   "id": "bb5ea1f0-6917-4468-87cf-7f53684287b9",
   "metadata": {},
   "outputs": [
    {
     "name": "stdout",
     "output_type": "stream",
     "text": [
      "[10, 1, 23, 25]\n"
     ]
    }
   ],
   "source": [
    "println(\"10.1.23.25\".split(\"\"\"\\D+\"\"\".toRegex())) // Special toRegex method to convert string to regex object"
   ]
  },
  {
   "cell_type": "markdown",
   "id": "17ed4ff9-92fe-4e4e-a180-ccf2caf6f4f5",
   "metadata": {},
   "source": [
    "## SubString"
   ]
  },
  {
   "cell_type": "code",
   "execution_count": 17,
   "id": "11aa1ab4-d277-4d43-ad70-48c82c0ae619",
   "metadata": {},
   "outputs": [
    {
     "name": "stdout",
     "output_type": "stream",
     "text": [
      "x=4\n",
      "query\n"
     ]
    }
   ],
   "source": [
    "var query = \"query?x=4\"\n",
    "// Java style: query.substring(query.indexOf(\"?\") + 1))\n",
    "println(query.substringAfter(\"?\"))\n",
    "// Java style: query.substring(0,query.indexOf(\"?\")))\n",
    "println(query.substringBefore(\"?\"))"
   ]
  },
  {
   "cell_type": "code",
   "execution_count": 18,
   "id": "385d9a85-81fa-44b1-ae81-4015665a21ca",
   "metadata": {},
   "outputs": [
    {
     "name": "stdout",
     "output_type": "stream",
     "text": [
      "yogesh\n",
      "query?x=4&name\n"
     ]
    }
   ],
   "source": [
    "var query = \"query?x=4&name=yogesh\"\n",
    "// Java style: query.substring(query.lastIndexOf(\"?\") + 1))\n",
    "println(query.substringAfterLast(\"=\"))\n",
    "// Java style: query.substring(0,query.lastIndexOf(\"?\")))\n",
    "println(query.substringBeforeLast(\"=\"))"
   ]
  },
  {
   "cell_type": "code",
   "execution_count": 4,
   "id": "fc1ca75d-a338-4482-aa02-b74583d9090a",
   "metadata": {},
   "outputs": [
    {
     "name": "stderr",
     "output_type": "stream",
     "text": [
      "Line_3.jupyter-kts (1:6 - 7) Unresolved reference. None of the following candidates is applicable because of receiver type mismatch: \n",
      "public inline operator fun BigDecimal.times(other: BigDecimal): BigDecimal defined in kotlin\n",
      "public inline operator fun BigInteger.times(other: BigInteger): BigInteger defined in kotlin"
     ]
    }
   ],
   "source": []
  },
  {
   "cell_type": "code",
   "execution_count": null,
   "id": "aefcb555-2556-48e4-bf53-0630d26f9ff6",
   "metadata": {},
   "outputs": [],
   "source": []
  }
 ],
 "metadata": {
  "kernelspec": {
   "display_name": "Kotlin",
   "language": "kotlin",
   "name": "kotlin"
  },
  "language_info": {
   "codemirror_mode": "text/x-kotlin",
   "file_extension": ".kt",
   "mimetype": "text/x-kotlin",
   "name": "kotlin",
   "nbconvert_exporter": "",
   "pygments_lexer": "kotlin",
   "version": "1.6.20-dev-3702"
  }
 },
 "nbformat": 4,
 "nbformat_minor": 5
}
