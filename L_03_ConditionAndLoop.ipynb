{
 "cells": [
  {
   "cell_type": "markdown",
   "id": "45acd413-6682-46cd-90fe-53f808084736",
   "metadata": {},
   "source": [
    "## Ternary operator"
   ]
  },
  {
   "cell_type": "code",
   "execution_count": 37,
   "id": "348aa5e5-5d62-4b29-965b-860daf3f4551",
   "metadata": {},
   "outputs": [
    {
     "name": "stdout",
     "output_type": "stream",
     "text": [
      "V\n"
     ]
    }
   ],
   "source": [
    "var x=5\n",
    "println(if (x==5) \"V\" else \"Any\") // pyRef: number_type = \"odd\" if number % 2 == 1 else \"even\""
   ]
  },
  {
   "cell_type": "code",
   "execution_count": 2,
   "id": "4a0e9c2c-880d-4429-8f5d-5b3aba328e7a",
   "metadata": {},
   "outputs": [
    {
     "name": "stdout",
     "output_type": "stream",
     "text": [
      "Leap year test returned: false\n"
     ]
    }
   ],
   "source": [
    "\n",
    "var year = 2017\n",
    "var isLeapYear = if (year%4==0) true else false\n",
    "println(\"Leap year test returned: $isLeapYear\")"
   ]
  },
  {
   "cell_type": "code",
   "execution_count": 14,
   "id": "4388cfa5-7561-4f31-b57a-2abb20bb8eff",
   "metadata": {},
   "outputs": [
    {
     "name": "stdout",
     "output_type": "stream",
     "text": [
      "Leap year test returned: Not a leap year (class kotlin.String)\n"
     ]
    }
   ],
   "source": [
    "// Type of leapYearResult is inferred as \"Any\" because it can be Boolean or String\n",
    "var year = 2013\n",
    "var leapYearResult = if (year%4==0) true else \"Not a leap year\"\n",
    "\n",
    "\n",
    "println(\"Leap year test returned: $leapYearResult (${leapYearResult::class})\")"
   ]
  },
  {
   "cell_type": "code",
   "execution_count": 15,
   "id": "1e9569c5-ab60-46c9-8f78-d7e0a006be62",
   "metadata": {},
   "outputs": [
    {
     "name": "stdout",
     "output_type": "stream",
     "text": [
      "Year 1900 was Extra Leap year\n",
      "Year 2000 was Leap year\n",
      "Year 2001 was Not a Leap year\n",
      "Year 2004 was Leap year\n"
     ]
    }
   ],
   "source": [
    "// Extra ternary condition\n",
    "for(year in arrayOf(1900,2000,2001,2004)){\n",
    "    var finalResult = if (year%400!=0 && year%100==0) \"Extra Leap\" else if (year%4==0) \"Leap\" else \"Not a Leap\"\n",
    "    \n",
    "    println(\"Year $year was $finalResult year\")\n",
    "}\n",
    "\n"
   ]
  },
  {
   "cell_type": "markdown",
   "id": "952545bf-eb2e-4fa9-a09b-20737dfa214a",
   "metadata": {},
   "source": [
    "### If-else in blocks"
   ]
  },
  {
   "cell_type": "code",
   "execution_count": 5,
   "id": "1af51484-33a2-45fe-ab5d-d2e19d771eb6",
   "metadata": {},
   "outputs": [
    {
     "name": "stdout",
     "output_type": "stream",
     "text": [
      "2016 is a leap year\n",
      "Leap year test returned: true\n"
     ]
    }
   ],
   "source": [
    "var year = 2016\n",
    "\n",
    "var isLeapYear = if(year%4==0){\n",
    "    println(\"$year is a leap year\")\n",
    "    true // This is kind of return value of the expression for this branch\n",
    "}else{\n",
    "    println(\"$year is not a leap year\")\n",
    "    false\n",
    "}\n",
    "\n",
    "println(\"Leap year test returned: $isLeapYear\")"
   ]
  },
  {
   "cell_type": "markdown",
   "id": "5c35de04-77dc-4f13-a07c-7fcfc5aed274",
   "metadata": {},
   "source": [
    "## When : a powerful switch"
   ]
  },
  {
   "cell_type": "markdown",
   "id": "4158ce4c-64f1-4b02-9769-a668fbbcc1ff",
   "metadata": {},
   "source": [
    "### when containing any boolean conditions"
   ]
  },
  {
   "cell_type": "code",
   "execution_count": 6,
   "id": "e2b78519-6ea3-4053-911a-02c0f5fbcc49",
   "metadata": {},
   "outputs": [
    {
     "name": "stdout",
     "output_type": "stream",
     "text": [
      "Year 1900 was Extra Leap year\n",
      "Year 2000 was Leap year\n",
      "Year 2001 was Not Leap year\n",
      "Year 2004 was Leap year\n"
     ]
    }
   ],
   "source": [
    "// This is more neat that the if else ladder in previous example\n",
    "for(year in arrayOf(1900,2000,2001,2004)){\n",
    "    var leapResult = when{\n",
    "        year%400!=0 && year%100==0 -> \"Extra Leap\"\n",
    "        year%4==0 -> \"Leap\"\n",
    "        else -> \"Not Leap\"\n",
    "    }\n",
    "    \n",
    "    println(\"Year $year was $leapResult year\")\n",
    "}\n",
    "\n",
    "\n"
   ]
  },
  {
   "cell_type": "markdown",
   "id": "99ca4435-8d1a-4a7d-a510-7d4be59ed991",
   "metadata": {},
   "source": [
    "### when on a subject"
   ]
  },
  {
   "cell_type": "code",
   "execution_count": 7,
   "id": "1d120570-0271-4252-baa6-bbb245310aa5",
   "metadata": {},
   "outputs": [
    {
     "name": "stdout",
     "output_type": "stream",
     "text": [
      "1234 is very old\n",
      "Nothing special about year: 1900\n",
      "1920 is Pandemic Year\n",
      "1947 is Independence year\n",
      "2000 is in this century\n",
      "234 BC Is a String\n"
     ]
    }
   ],
   "source": [
    "for(year in arrayOf(1234,1900,1920,1947,2000,\"234 BC\")){\n",
    "\n",
    "    var result = when(year){\n",
    "        \n",
    "        // Multiple verients of the check\n",
    "        is String -> \"$year Is a String\" // type check\n",
    "        in 2000..2021 -> \"$year is in this century\"\n",
    "        1947 -> \"$year is Independence year\"\n",
    "        1920,2020 -> \"$year is Pandemic Year\" // multiple values\n",
    "        !in 1900..2021 -> \"$year is very old\"\n",
    "        else -> \"Nothing special about year: $year\"\n",
    "    }\n",
    "    \n",
    "    println(result)\n",
    "    \n",
    "}\n",
    "\n"
   ]
  },
  {
   "cell_type": "markdown",
   "id": "511a546e-518c-48e9-9991-1e012a32d542",
   "metadata": {},
   "source": [
    "### when blocks"
   ]
  },
  {
   "cell_type": "code",
   "execution_count": 8,
   "id": "9eb7b2cf-786e-4be4-8bbd-7dd17d657752",
   "metadata": {},
   "outputs": [
    {
     "name": "stdout",
     "output_type": "stream",
     "text": [
      "Year code: BC for year 1200 BC\n",
      "Year code: NOP for year 1999\n",
      "It is a millennium year\n",
      "Year code: ML for year 2000\n",
      "Year code: NL for year 2001\n",
      "Year code: NL for year 2002\n",
      "Year code: NL for year 2003\n",
      "Year code: L for year 2004\n"
     ]
    }
   ],
   "source": [
    "for(year in arrayOf(\"1200 BC\",1999,2000,2001,2002,2003,2004)){\n",
    "\n",
    "    var yearCode = when(year){\n",
    "        is String ->  year.substringAfter(\" \") // Smart cast to String, year is of type any\n",
    "        2000 -> {\n",
    "            println(\"It is a millennium year\")\n",
    "            \"ML\"\n",
    "        }\n",
    "        in 2000..2021 -> {\n",
    "            if(year is Int && year%4==0) \"L\" else \"NL\" // Smart cast to Int, year is of type any\n",
    "        }\n",
    "        else -> \"NOP\"\n",
    "    }\n",
    "    \n",
    "    println(\"Year code: $yearCode for year $year\")\n",
    "}\n",
    "\n"
   ]
  },
  {
   "cell_type": "code",
   "execution_count": 40,
   "id": "1f1ecbea-7214-4120-a767-127e186102ca",
   "metadata": {},
   "outputs": [
    {
     "name": "stdout",
     "output_type": "stream",
     "text": [
      "Hello\n",
      "string\n"
     ]
    }
   ],
   "source": []
  },
  {
   "cell_type": "code",
   "execution_count": null,
   "id": "dbc16a37-ef7d-49b3-8449-b29795ebfe1c",
   "metadata": {},
   "outputs": [],
   "source": []
  },
  {
   "cell_type": "code",
   "execution_count": null,
   "id": "1e660437-166d-46ee-8bda-a6d52b1eeb2a",
   "metadata": {},
   "outputs": [],
   "source": []
  }
 ],
 "metadata": {
  "kernelspec": {
   "display_name": "Kotlin",
   "language": "kotlin",
   "name": "kotlin"
  },
  "language_info": {
   "codemirror_mode": "text/x-kotlin",
   "file_extension": ".kt",
   "mimetype": "text/x-kotlin",
   "name": "kotlin",
   "nbconvert_exporter": "",
   "pygments_lexer": "kotlin",
   "version": "1.6.20-dev-3702"
  }
 },
 "nbformat": 4,
 "nbformat_minor": 5
}
