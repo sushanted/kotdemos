{
 "cells": [
  {
   "cell_type": "markdown",
   "id": "a10bf8b5-cc60-4a76-998e-de9f3e8b5dd0",
   "metadata": {},
   "source": [
    "#### Singleton object"
   ]
  },
  {
   "cell_type": "code",
   "execution_count": 1,
   "id": "a5e5e223-afc3-4b66-8c59-8f7ce163c0ec",
   "metadata": {},
   "outputs": [],
   "source": [
    "object Registry{\n",
    "    \n",
    "    val artifacts = mutableSetOf<String>()\n",
    "    \n",
    "    fun addArtifact(name : String){\n",
    "        artifacts.add(name)\n",
    "    }\n",
    "    \n",
    "    fun isPresent(name : String): Boolean{\n",
    "        return artifacts.contains(name)\n",
    "    }\n",
    "    \n",
    "}"
   ]
  },
  {
   "cell_type": "markdown",
   "id": "8487390e-3806-45fb-8431-8894bf250ddf",
   "metadata": {},
   "source": [
    "#### Usage:\n",
    "This is similar to access Java static members of  class"
   ]
  },
  {
   "cell_type": "code",
   "execution_count": 2,
   "id": "b6d4b505-02ef-43d1-ace6-9ec895cb2241",
   "metadata": {},
   "outputs": [],
   "source": [
    "Registry.addArtifact(\"pen\")"
   ]
  },
  {
   "cell_type": "code",
   "execution_count": 3,
   "id": "3022c063-e132-4355-9983-f90ae83940d4",
   "metadata": {},
   "outputs": [
    {
     "data": {
      "text/plain": [
       "true"
      ]
     },
     "execution_count": 3,
     "metadata": {},
     "output_type": "execute_result"
    }
   ],
   "source": [
    "Registry.isPresent(\"pen\")"
   ]
  },
  {
   "cell_type": "code",
   "execution_count": 4,
   "id": "73196507-1900-483f-aedb-419d5c9dbfa2",
   "metadata": {},
   "outputs": [
    {
     "data": {
      "text/plain": [
       "false"
      ]
     },
     "execution_count": 4,
     "metadata": {},
     "output_type": "execute_result"
    }
   ],
   "source": [
    "Registry.isPresent(\"book\")"
   ]
  },
  {
   "cell_type": "markdown",
   "id": "6eecfe93-5799-4a2a-b7c8-a8fedb4f4fdd",
   "metadata": {},
   "source": [
    "#### Another example"
   ]
  },
  {
   "cell_type": "code",
   "execution_count": 5,
   "id": "5f88ad85-4dda-42ff-8807-e1d6aaf3449d",
   "metadata": {},
   "outputs": [],
   "source": [
    "object NumericStringComparator : Comparator<String> {\n",
    "    override fun compare(first: String,second: String):Int{\n",
    "        return first.toInt()-(second.toInt())\n",
    "    }\n",
    "}"
   ]
  },
  {
   "cell_type": "code",
   "execution_count": null,
   "id": "d3ef651b-419a-4f6b-9d5b-d467ac184471",
   "metadata": {},
   "outputs": [],
   "source": []
  },
  {
   "cell_type": "markdown",
   "id": "d7fe4960-340e-4ce8-9199-44d068ff41f1",
   "metadata": {},
   "source": [
    "##### Note: the name of the object can directly be used as the reference to the object"
   ]
  },
  {
   "cell_type": "code",
   "execution_count": 6,
   "id": "374eb2c6-0000-4d20-b43b-409acbdd95ad",
   "metadata": {},
   "outputs": [
    {
     "name": "stdout",
     "output_type": "stream",
     "text": [
      "[1, 2, 10, 11, 22]\n"
     ]
    }
   ],
   "source": [
    "val strings = listOf(\"1\",\"10\",\"11\",\"22\",\"2\")\n",
    "println(strings.sortedWith(NumericStringComparator))"
   ]
  },
  {
   "cell_type": "markdown",
   "id": "f1142551-9e51-49b3-b602-f3f00ccdddf0",
   "metadata": {},
   "source": [
    "#### Object inside a class"
   ]
  },
  {
   "cell_type": "code",
   "execution_count": 7,
   "id": "952336fa-bb0a-4b23-84c3-7e1dc4fb4703",
   "metadata": {},
   "outputs": [],
   "source": [
    "data class Person(val name: String) {\n",
    "    object NameComparator : Comparator<Person> {\n",
    "        override fun compare(p1: Person, p2: Person): Int =\n",
    "            p1.name.compareTo(p2.name)\n",
    "    }\n",
    "}"
   ]
  },
  {
   "cell_type": "code",
   "execution_count": 8,
   "id": "d2977434-4b2a-417b-ac83-88d11bfa0582",
   "metadata": {},
   "outputs": [],
   "source": [
    "val persons = listOf(Person(\"Bob\"), Person(\"Alice\"))"
   ]
  },
  {
   "cell_type": "code",
   "execution_count": 9,
   "id": "a516c257-f358-4949-94f6-5c6bfa15ef0f",
   "metadata": {},
   "outputs": [
    {
     "name": "stdout",
     "output_type": "stream",
     "text": [
      "[Person(name=Alice), Person(name=Bob)]\n"
     ]
    }
   ],
   "source": [
    "println(persons.sortedWith(Person.NameComparator)) // Accessed like static variable in Java"
   ]
  },
  {
   "cell_type": "markdown",
   "id": "1ed800ea-42fc-4673-8b3b-10971f87d122",
   "metadata": {},
   "source": [
    "##### Note : These objects have just a single instance; they don’t have a separate instance per instance of the containing class : remember they are singletons!"
   ]
  },
  {
   "cell_type": "code",
   "execution_count": 10,
   "id": "e75515c0-f77f-46c3-9459-b5212902f82b",
   "metadata": {},
   "outputs": [],
   "source": [
    " // Person(\"A\").NameComparator // You cannot access via instance reference"
   ]
  },
  {
   "cell_type": "markdown",
   "id": "3cee7fcd-7176-44da-bf62-91237a3e5f2a",
   "metadata": {},
   "source": [
    "#### object expressions"
   ]
  },
  {
   "cell_type": "markdown",
   "id": "b8512851-3c65-4342-bb0e-6aedb8ddc5f9",
   "metadata": {},
   "source": [
    "##### object expressionn create anonymous objects (similar to java's annonymous inner classes), which can be used as expressions. "
   ]
  },
  {
   "cell_type": "code",
   "execution_count": 11,
   "id": "46236213-7bd4-453a-965f-5e65f9d98692",
   "metadata": {},
   "outputs": [
    {
     "name": "stdout",
     "output_type": "stream",
     "text": [
      "[Person(name=Alice), Person(name=Bob)]\n"
     ]
    }
   ],
   "source": [
    "println(persons.sortedWith(object : Comparator<Person>{\n",
    "     override fun compare(p1: Person, p2: Person): Int =\n",
    "            p1.name.compareTo(p2.name)\n",
    "}))"
   ]
  },
  {
   "cell_type": "code",
   "execution_count": 12,
   "id": "58292be0-9c19-45d7-a231-46e8c72163d5",
   "metadata": {},
   "outputs": [
    {
     "name": "stdout",
     "output_type": "stream",
     "text": [
      "hello\n"
     ]
    }
   ],
   "source": [
    "println(object{\n",
    "    override fun toString()=\"hello\"\n",
    "})"
   ]
  },
  {
   "cell_type": "markdown",
   "id": "f535162f-d327-409d-ad64-822d75198250",
   "metadata": {},
   "source": [
    "##### Object expressions are not singletons unlike objects, every time a new object is created"
   ]
  },
  {
   "cell_type": "code",
   "execution_count": 13,
   "id": "fa198207-d743-40cb-b083-df7d95d4d833",
   "metadata": {},
   "outputs": [
    {
     "name": "stdout",
     "output_type": "stream",
     "text": [
      "Line_12$Singleton@30dcb4ac\n",
      "Line_12$Singleton@30dcb4ac\n",
      "Line_12$Singleton@30dcb4ac\n",
      "Line_12$Singleton@30dcb4ac\n",
      "Line_12$1@6fd5b999\n",
      "Line_12$1@2ab2d53c\n",
      "Line_12$1@7f1e7d12\n",
      "Line_12$1@22716b09\n"
     ]
    }
   ],
   "source": [
    "object Singleton{\n",
    "    \n",
    "}\n",
    "\n",
    "// Always same\n",
    "for(i in 0..3){\n",
    "    println(Singleton)\n",
    "}\n",
    "\n",
    "// Always different\n",
    "for(i in 0..3){\n",
    "    println( object{})\n",
    "}"
   ]
  },
  {
   "cell_type": "markdown",
   "id": "3cabf194-941d-4f5d-8843-47701ea1884f",
   "metadata": {},
   "source": [
    "##### Unlike java local variables can be muteted inside anonimous objects"
   ]
  },
  {
   "cell_type": "code",
   "execution_count": 14,
   "id": "cf075ef4-d51b-49f7-a6a1-c78692e15a75",
   "metadata": {},
   "outputs": [
    {
     "name": "stdout",
     "output_type": "stream",
     "text": [
      "1\n",
      "2\n",
      "3\n",
      "4\n"
     ]
    }
   ],
   "source": [
    "var count = 0\n",
    "\n",
    "for(i in 0..3){\n",
    "    println( object{\n",
    "        override fun toString():String{\n",
    "            count++\n",
    "            return count.toString()\n",
    "        }\n",
    "    })\n",
    "}\n",
    "\n"
   ]
  },
  {
   "cell_type": "markdown",
   "id": "26f8c4a7-cca3-4b70-b4ae-af7e719c2d52",
   "metadata": {},
   "source": [
    "#### Companion Objects"
   ]
  },
  {
   "cell_type": "code",
   "execution_count": 15,
   "id": "9cf9a57f-cf04-4d4c-94e2-066ac888dfd3",
   "metadata": {},
   "outputs": [],
   "source": [
    "class NumericString(val value : String){\n",
    "    \n",
    "    \n",
    "    companion object Factory{\n",
    "        \n",
    "        // Factory methods to create instances\n",
    "        \n",
    "        fun byString(string:String):NumericString{\n",
    "            return NumericString(string)\n",
    "        }\n",
    "        fun byNumber(number:Number):NumericString{\n",
    "            return NumericString(number.toString())\n",
    "        }\n",
    "    }\n",
    "}"
   ]
  },
  {
   "cell_type": "code",
   "execution_count": 16,
   "id": "776cd845-00c6-41ce-8577-bd4b53a3e1ff",
   "metadata": {},
   "outputs": [
    {
     "data": {
      "text/plain": [
       "Line_14$NumericString@63da207f"
      ]
     },
     "execution_count": 16,
     "metadata": {},
     "output_type": "execute_result"
    }
   ],
   "source": [
    "// Both of the following are same\n",
    "NumericString.Factory.byString(\"34\")\n",
    "NumericString.byString(\"34\") // the object name can be omitted\n",
    "\n"
   ]
  },
  {
   "cell_type": "markdown",
   "id": "b5adb9c6-7b99-4d8f-a07f-6d52dfc3b582",
   "metadata": {},
   "source": [
    "##### If the name is not specified the companion object get the name : Companion"
   ]
  },
  {
   "cell_type": "code",
   "execution_count": 17,
   "id": "d07b63e7-240b-4e3e-acdd-168c994c0984",
   "metadata": {},
   "outputs": [],
   "source": [
    "class A{\n",
    "    companion object{\n",
    "        val name= \"A\"\n",
    "        val loadTime= System.currentTimeMillis()\n",
    "    }\n",
    "}\n",
    "\n"
   ]
  },
  {
   "cell_type": "code",
   "execution_count": 18,
   "id": "a564f9f3-e4ce-4036-8b56-5b2ac83dd9df",
   "metadata": {},
   "outputs": [
    {
     "name": "stdout",
     "output_type": "stream",
     "text": [
      "A\n",
      "A\n"
     ]
    }
   ],
   "source": [
    "println(A.Companion.name)\n",
    "println(A.name)"
   ]
  },
  {
   "cell_type": "markdown",
   "id": "0125b7d3-7749-491c-8863-827d43927991",
   "metadata": {},
   "source": [
    "#### Companion extension function"
   ]
  },
  {
   "cell_type": "code",
   "execution_count": 19,
   "id": "81cb670e-2b93-4464-9278-6085962ca0f1",
   "metadata": {},
   "outputs": [],
   "source": [
    "fun A.Companion.details()= name +\":\"+ loadTime\n"
   ]
  },
  {
   "cell_type": "code",
   "execution_count": 20,
   "id": "add5d8fc-706e-472d-bc13-d36e368f1937",
   "metadata": {},
   "outputs": [
    {
     "name": "stdout",
     "output_type": "stream",
     "text": [
      "A:1644511168603\n"
     ]
    }
   ],
   "source": [
    "println(A.details())"
   ]
  },
  {
   "cell_type": "code",
   "execution_count": null,
   "id": "fbc68e7a-5220-4964-8f76-4c8231e5a9fb",
   "metadata": {},
   "outputs": [],
   "source": []
  },
  {
   "cell_type": "code",
   "execution_count": null,
   "id": "ffc63af6-16e8-4853-8dd0-63c1c5a30353",
   "metadata": {},
   "outputs": [],
   "source": []
  }
 ],
 "metadata": {
  "kernelspec": {
   "display_name": "Kotlin",
   "language": "kotlin",
   "name": "kotlin"
  },
  "language_info": {
   "codemirror_mode": "text/x-kotlin",
   "file_extension": ".kt",
   "mimetype": "text/x-kotlin",
   "name": "kotlin",
   "nbconvert_exporter": "",
   "pygments_lexer": "kotlin",
   "version": "1.6.20-dev-3702"
  }
 },
 "nbformat": 4,
 "nbformat_minor": 5
}
