{
 "cells": [
  {
   "cell_type": "markdown",
   "id": "428b8811-89fb-4bec-b673-549d1984bddf",
   "metadata": {},
   "source": [
    "#### Primitive are also objects (This is similar to python)"
   ]
  },
  {
   "cell_type": "code",
   "execution_count": 1,
   "id": "03968592-30b7-4093-b921-9e5bbb205364",
   "metadata": {},
   "outputs": [
    {
     "name": "stdout",
     "output_type": "stream",
     "text": [
      "class kotlin.Boolean\n",
      "class kotlin.Int\n",
      "class kotlin.String\n",
      "class kotlin.Array\n"
     ]
    }
   ],
   "source": [
    "println(true::class)\n",
    "println(45::class)\n",
    "println(\"ssr\"::class)\n",
    "println(arrayOf(\"A\",\"B\")::class)"
   ]
  },
  {
   "cell_type": "markdown",
   "id": "f007274a-9d2d-4e8e-90fd-dd92798fb8e0",
   "metadata": {},
   "source": [
    "## Classes and properties"
   ]
  },
  {
   "cell_type": "code",
   "execution_count": 2,
   "id": "ebca7515-90f1-4ea9-bd15-5dcab6d07acf",
   "metadata": {},
   "outputs": [],
   "source": [
    "class Soul // Class without body"
   ]
  },
  {
   "cell_type": "code",
   "execution_count": 3,
   "id": "316dc067-030f-40e0-87cd-0ec2474a89ed",
   "metadata": {},
   "outputs": [],
   "source": [
    "val soul = Soul() // create an object, 'new' keyword not required : same as python"
   ]
  },
  {
   "cell_type": "markdown",
   "id": "8cf622df-04c2-41c2-b362-7b38b3ccec8d",
   "metadata": {},
   "source": [
    "#### In Java properties are fields + accessors, in kotlin properties are declared just like fields in java, but they are complete properties"
   ]
  },
  {
   "cell_type": "code",
   "execution_count": 4,
   "id": "c34ad53c-7acf-41b4-9fbb-a0a7a9a568c8",
   "metadata": {},
   "outputs": [],
   "source": [
    "class Person(var age:Int,val name:String)  // class with two properties"
   ]
  },
  {
   "cell_type": "code",
   "execution_count": 5,
   "id": "918b02b2-89d4-42c3-b9a1-a1f630ac9299",
   "metadata": {},
   "outputs": [
    {
     "name": "stdout",
     "output_type": "stream",
     "text": [
      "Amol 23\n",
      "Amol 45\n"
     ]
    }
   ],
   "source": [
    "val amol = Person(23,\"Amol\")\n",
    "println(\"${amol.name} ${amol.age}\") // This is same as amol.getName() and amol.getAge()\n",
    "amol.age = 45 // This is same as amol.setAge(45)\n",
    "println(\"${amol.name} ${amol.age}\")\n",
    "// amol.name = \"Ammol\" // Val cannot be reassigned : name is readonly property, as if initialized through connstructor and setter is not defined"
   ]
  },
  {
   "cell_type": "markdown",
   "id": "18a5547b-8f4f-4d6c-8b69-4d3797310aeb",
   "metadata": {},
   "source": [
    "### Custom accessors"
   ]
  },
  {
   "cell_type": "code",
   "execution_count": 9,
   "id": "6869d8aa-1928-435b-828e-c332c5648731",
   "metadata": {},
   "outputs": [],
   "source": [
    "// pyRef: @property \n",
    "\n",
    "class Rectangle(val height:Int,val width:Int,var color:String=\"red\"){\n",
    "    val isSquare\n",
    "        get() = height==width // custom accessor, note isSquare is purely synthetic property, no backing storage\n",
    "\n",
    "}"
   ]
  },
  {
   "cell_type": "code",
   "execution_count": 7,
   "id": "a248b2de-caa1-40d6-b3ee-f58a8a8d2ace",
   "metadata": {},
   "outputs": [
    {
     "name": "stdout",
     "output_type": "stream",
     "text": [
      "true\n"
     ]
    }
   ],
   "source": [
    "println(Rectangle(4,4).isSquare)"
   ]
  },
  {
   "cell_type": "code",
   "execution_count": 8,
   "id": "c6b49eea-162a-474c-92de-587769f31017",
   "metadata": {},
   "outputs": [],
   "source": [
    "// TODO : custom setter"
   ]
  },
  {
   "cell_type": "code",
   "execution_count": null,
   "id": "3f63d961-6418-4cb5-b145-faf57b614a03",
   "metadata": {},
   "outputs": [],
   "source": []
  }
 ],
 "metadata": {
  "kernelspec": {
   "display_name": "Kotlin",
   "language": "kotlin",
   "name": "kotlin"
  },
  "language_info": {
   "codemirror_mode": "text/x-kotlin",
   "file_extension": ".kt",
   "mimetype": "text/x-kotlin",
   "name": "kotlin",
   "nbconvert_exporter": "",
   "pygments_lexer": "kotlin",
   "version": "1.6.20-dev-3702"
  }
 },
 "nbformat": 4,
 "nbformat_minor": 5
}
