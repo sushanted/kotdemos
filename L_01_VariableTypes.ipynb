{
 "cells": [
  {
   "cell_type": "markdown",
   "id": "3f091fe0-6310-4f7a-b7a9-fb64f0f17425",
   "metadata": {},
   "source": [
    "### val ( as in 'val'ue)"
   ]
  },
  {
   "cell_type": "code",
   "execution_count": 1,
   "id": "742361eb-5f50-4815-ac68-e2ab6acb92e7",
   "metadata": {},
   "outputs": [],
   "source": [
    "val immutable = \"hello\"\n",
    "// immutable = \"Again hello\" // Val cannot be reassigned"
   ]
  },
  {
   "cell_type": "markdown",
   "id": "0c10fcc6-d261-4211-bfc2-86b8f859b195",
   "metadata": {},
   "source": [
    "### var (as in 'var'iable)"
   ]
  },
  {
   "cell_type": "code",
   "execution_count": 2,
   "id": "adfe38fd-eb34-4d3a-a8ac-47948c703700",
   "metadata": {},
   "outputs": [],
   "source": [
    "var mutable = \"before\"\n",
    "mutable = \"after\"\n"
   ]
  },
  {
   "cell_type": "markdown",
   "id": "d785a646-83c1-423f-9065-9f0c01f2d59f",
   "metadata": {},
   "source": [
    "### val and var can be assigned later"
   ]
  },
  {
   "cell_type": "code",
   "execution_count": 3,
   "id": "faaf671c-1096-4b3d-be72-39fd83ef33a4",
   "metadata": {},
   "outputs": [
    {
     "name": "stdout",
     "output_type": "stream",
     "text": [
      "value = 45\n",
      "variable = 45\n"
     ]
    }
   ],
   "source": [
    "fun function(){\n",
    "    val value:Int\n",
    "    var variable:String\n",
    "    value = 45\n",
    "    println(\"value = $value\")\n",
    "    variable = 45.toString()\n",
    "    println(\"variable = $variable\")\n",
    "}\n",
    "\n",
    "function()"
   ]
  },
  {
   "cell_type": "markdown",
   "id": "06608dc7-25cc-4dd6-be0a-cb9241a3b459",
   "metadata": {},
   "source": [
    "### val should be assigned in the scope for every path in the flow"
   ]
  },
  {
   "cell_type": "code",
   "execution_count": 4,
   "id": "680070bf-4bda-4687-ab4b-38ffa345b571",
   "metadata": {},
   "outputs": [
    {
     "name": "stderr",
     "output_type": "stream",
     "text": [
      "Line_3.jupyter-kts (8:13 - 18) Variable 'value' must be initialized"
     ]
    }
   ],
   "source": [
    "fun fun2(){\n",
    "    val value:Int\n",
    "   \n",
    "    if(\"a\"==\"a\"){\n",
    "        value = 45\n",
    "    }\n",
    "    \n",
    "    println(value)\n",
    "}"
   ]
  },
  {
   "cell_type": "markdown",
   "id": "8a270d37-b726-4a50-89d9-98d0a7fbc7b3",
   "metadata": {},
   "source": [
    "### val can be assigned only once"
   ]
  },
  {
   "cell_type": "code",
   "execution_count": 5,
   "id": "43ee102b-1846-4e6b-8589-9a29f9a56bfb",
   "metadata": {},
   "outputs": [
    {
     "name": "stdout",
     "output_type": "stream",
     "text": [
      "30\n"
     ]
    }
   ],
   "source": [
    "fun fun3(month:Int):Int{\n",
    "    \n",
    "    val days:Int\n",
    "   \n",
    "    when(month){\n",
    "        2 -> days=28\n",
    "        1,3,5,7,8,10,12 -> days=31\n",
    "        else -> days=30\n",
    "    }\n",
    "    \n",
    "    // days = 30 // This is not allowed, it is already assigned\n",
    "    \n",
    "   return days\n",
    "}\n",
    "\n",
    "println(fun3(4))\n"
   ]
  },
  {
   "cell_type": "markdown",
   "id": "6a7bf32a-e6a1-47c1-a9ec-1ad1207624cd",
   "metadata": {},
   "source": [
    "### var can be re-assigned, but with same type of value (This is unlike python)"
   ]
  },
  {
   "cell_type": "code",
   "execution_count": 6,
   "id": "a95b050a-0e0c-4e19-9f64-babff7daaaba",
   "metadata": {},
   "outputs": [
    {
     "name": "stderr",
     "output_type": "stream",
     "text": [
      "Line_5.jupyter-kts (2:5 - 13) Type mismatch: inferred type is String but Int was expected"
     ]
    }
   ],
   "source": [
    "var a = 5\n",
    "a = \"string\" // inferred type is String but Int was expected"
   ]
  },
  {
   "cell_type": "markdown",
   "id": "12b7bda4-a4ef-4964-9bf8-5df0ae5880d9",
   "metadata": {},
   "source": [
    "### nullable"
   ]
  },
  {
   "cell_type": "code",
   "execution_count": 7,
   "id": "750f3e49-a6e5-46b1-8330-38badd815174",
   "metadata": {},
   "outputs": [],
   "source": [
    "// val and var can both be nullable\n",
    "val nullable = null\n",
    "var anotherNullable = null\n",
    "\n",
    "var nullableAfterReassignment:String? = \"Not null now\"\n",
    "\n",
    "nullableAfterReassignment = null"
   ]
  },
  {
   "cell_type": "markdown",
   "id": "c48f8cd5-5295-4b27-aedf-c7baff9d0e2f",
   "metadata": {},
   "source": [
    "### non-nullable"
   ]
  },
  {
   "cell_type": "code",
   "execution_count": 8,
   "id": "a34dcb91-c872-47ab-88bf-c6ef124fb2ba",
   "metadata": {},
   "outputs": [],
   "source": [
    "// Once assigned with non null value, the var becomes nonNullable\n",
    "var nonNullable = \"nonNullable\"\n",
    "\n",
    "// nonNullable = null // Null can not be a value of a non-null type String\n"
   ]
  },
  {
   "cell_type": "markdown",
   "id": "4f25a2b9-3472-4593-8103-5df2094a5aa4",
   "metadata": {},
   "source": [
    "### nullable and non-nullable inter-assignment\n",
    "\n",
    "The non-nullable types cannot be assigned with a null and cannot be assigned with a nullable variable, therefore they never contain a null value, therefore they are null safe. Because of ternary if-else structure/when structure, we never need to assign a variable with null. \n",
    "Nullable types are there in kotlin to support interoperability with java code."
   ]
  },
  {
   "cell_type": "code",
   "execution_count": 9,
   "id": "6165005a-b096-463a-93c9-d7cef4548f0c",
   "metadata": {},
   "outputs": [],
   "source": [
    "var nullable1:String? = \"nullable\"\n",
    "var nullable2 = null // The inferred type for a variable assigned with null is Nothing?\n",
    "var nonNullable = \"non nullable\"\n",
    "\n",
    "// nonNullable = nullable1 // Type mismatch: inferred type is String? but String was expected\n",
    "// nonNullable = nullable2 // Type mismatch: inferred type is Nothing? but String was expected\n",
    "nullable1 = nonNullable //  String? = String allowed\n",
    "// nullable2 = nonNullable // Type mismatch: inferred type is String but Nothing? was expected"
   ]
  },
  {
   "cell_type": "markdown",
   "id": "4ea11952-6fd8-4376-b490-9fbb44d967ec",
   "metadata": {},
   "source": [
    "### Null safety operators: '?' 'let' and '?:'\n",
    "\n",
    "Good read : https://www.baeldung.com/kotlin/null-safety\n"
   ]
  },
  {
   "cell_type": "markdown",
   "id": "3311cecd-8a5d-4942-a659-069e9abea9d5",
   "metadata": {},
   "source": [
    "##### Note: We would never get NullPointerException (unless we explicitely want it!!) in kotlin, as it enforces a compile level check for property access"
   ]
  },
  {
   "cell_type": "code",
   "execution_count": 10,
   "id": "ee4f0bfa-e723-4203-9be4-12a42b1b183c",
   "metadata": {},
   "outputs": [
    {
     "name": "stdout",
     "output_type": "stream",
     "text": [
      "It was null\n"
     ]
    }
   ],
   "source": [
    "val nullString:String? = null  // Note it is val and not var, var doesn't work because compiler cannot check if after null check there was any null assignment\n",
    "\n",
    "if(nullString!=null){\n",
    "    println(nullString.length)\n",
    "}else{\n",
    "    println(\"It was null\")\n",
    "}"
   ]
  },
  {
   "cell_type": "code",
   "execution_count": 11,
   "id": "4b1aafff-424f-4cbd-add1-1c7f637ef8f1",
   "metadata": {},
   "outputs": [
    {
     "name": "stdout",
     "output_type": "stream",
     "text": [
      "null\n",
      "4\n"
     ]
    }
   ],
   "source": [
    "// operator ?\n",
    "\n",
    "var nullableString:String? = null\n",
    "\n",
    "//println(nullableString.uppercase().length) //Only safe (?.) or non-null asserted (!!.) calls are allowed on a nullable receiver of type String?\n",
    "\n",
    "println(nullableString?.uppercase()?.length) // prints null\n",
    "\n",
    "nullableString = \"abcd\"\n",
    "\n",
    "println(nullableString?.uppercase()?.length) // prints 4\n",
    "\n",
    "// Java equivalent : Optional.ofNullable(nullableString).map(String::toUpperCase).map(String::length).orElse(null);"
   ]
  },
  {
   "cell_type": "code",
   "execution_count": 12,
   "id": "d264a153-cc3d-4de7-ac5d-b6192a700a20",
   "metadata": {},
   "outputs": [
    {
     "name": "stdout",
     "output_type": "stream",
     "text": [
      "default\n"
     ]
    }
   ],
   "source": [
    "// operator Elvis ?:\n",
    "\n",
    "var nullableString:String? = null\n",
    "\n",
    "println(nullableString?:\"default\")\n",
    "\n",
    "// Java equivalent : Optional.ofNullable(nullableString).orElse(\"default\")\n",
    "\n",
    "var notNullable = nullableString?:\"default\"\n",
    "\n",
    "// notNullable = null  // notNullable is not Nullable\n",
    "\n",
    "var stillNullable = nullableString?:null\n",
    "\n",
    "stillNullable = null  // stillNullable is still nullable\n"
   ]
  },
  {
   "cell_type": "markdown",
   "id": "3a6b2057-7148-42b0-b18d-98f994304709",
   "metadata": {},
   "source": [
    "### Nothing"
   ]
  },
  {
   "cell_type": "markdown",
   "id": "5cda5488-a615-4509-ab1f-a0ddb06ac00d",
   "metadata": {},
   "source": [
    "Nothing is better than this article to understand Nothing!\n",
    "\n",
    "https://medium.com/thoughts-overflow/kotlin-has-nothing-but-there-is-nothing-like-nothing-in-java-cab98e4f4d26\n",
    "\n",
    "Summary: If a method is never expected to return anything, its return type should be specified as Nothing. For example a method which always throwing an exception, or has infinite loop, or has System.exit(). The compiler gets hint from this return type and understands that the method is never returning anything and sets its expectations accordingly. Above article has 3 good usecases to use 'Nothing'"
   ]
  },
  {
   "cell_type": "markdown",
   "id": "db29d18c-1702-4ef0-91b7-c1eed704ab20",
   "metadata": {},
   "source": [
    "### Unit\n",
    "\n",
    "This is equivalent to Void type in Java"
   ]
  },
  {
   "cell_type": "markdown",
   "id": "6b1e5ad6-e6d6-4ff1-92a4-8d1fa6e373d9",
   "metadata": {},
   "source": [
    "### Any\n",
    "This is equivalent to Object type in java"
   ]
  },
  {
   "cell_type": "code",
   "execution_count": 13,
   "id": "521a2c2e-b897-4d9a-90cb-d7c2f348ed50",
   "metadata": {},
   "outputs": [
    {
     "name": "stderr",
     "output_type": "stream",
     "text": [
      "Line_16.jupyter-kts (1:14 - 18) Property getter or setter expected"
     ]
    }
   ],
   "source": [
    "var lateinit late\n"
   ]
  },
  {
   "cell_type": "code",
   "execution_count": null,
   "id": "3fd91e26-627d-442d-8717-512331ddb873",
   "metadata": {},
   "outputs": [],
   "source": []
  },
  {
   "cell_type": "code",
   "execution_count": null,
   "id": "08888636-4174-4e54-992e-181b455e9da3",
   "metadata": {},
   "outputs": [],
   "source": []
  }
 ],
 "metadata": {
  "kernelspec": {
   "display_name": "Kotlin",
   "language": "kotlin",
   "name": "kotlin"
  },
  "language_info": {
   "codemirror_mode": "text/x-kotlin",
   "file_extension": ".kt",
   "mimetype": "text/x-kotlin",
   "name": "kotlin",
   "nbconvert_exporter": "",
   "pygments_lexer": "kotlin",
   "version": "1.6.20-dev-3702"
  }
 },
 "nbformat": 4,
 "nbformat_minor": 5
}
