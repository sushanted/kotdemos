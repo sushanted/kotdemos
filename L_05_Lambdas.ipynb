{
 "cells": [
  {
   "cell_type": "code",
   "execution_count": 1,
   "id": "c582e1ca-dc40-4552-a68d-2061f447d65c",
   "metadata": {},
   "outputs": [
    {
     "name": "stdout",
     "output_type": "stream",
     "text": [
      "Hello\n",
      "string\n"
     ]
    }
   ],
   "source": [
    "var x = {\n",
    "    println(\"Hello\")\n",
    "    \"string\" // This is the return value from lambda\n",
    "}\n",
    "\n",
    "println(x())"
   ]
  },
  {
   "cell_type": "code",
   "execution_count": 2,
   "id": "61c4edd1-300d-466c-8ec5-64737a922573",
   "metadata": {},
   "outputs": [
    {
     "name": "stdout",
     "output_type": "stream",
     "text": [
      "() -> kotlin.String\n"
     ]
    }
   ],
   "source": [
    "println(x)\n",
    "\n",
    "\n"
   ]
  },
  {
   "cell_type": "code",
   "execution_count": 3,
   "id": "3c710cb5-b116-4508-a065-223416fe5470",
   "metadata": {},
   "outputs": [
    {
     "name": "stdout",
     "output_type": "stream",
     "text": [
      "1\n",
      "3\n"
     ]
    }
   ],
   "source": [
    "fun execute(lambda : (String) -> Int):Unit{\n",
    "    println(lambda(\"one\"))\n",
    "}\n",
    "\n",
    "execute{\n",
    "    numberName -> if(numberName==\"zero\") 0 else 1\n",
    "}\n",
    "\n",
    "execute{\n",
    "    numberName -> numberName.length\n",
    "}"
   ]
  },
  {
   "cell_type": "markdown",
   "id": "34cceeb1-6e3c-445f-a85b-0acb0da1c4aa",
   "metadata": {},
   "source": [
    "#### Extension function"
   ]
  },
  {
   "cell_type": "code",
   "execution_count": 4,
   "id": "fddd806a-f124-4ccc-92a3-f71ca18e6a1a",
   "metadata": {},
   "outputs": [],
   "source": [
    "fun String.midChar():Char{\n",
    "    return this[this.length/2]\n",
    "}"
   ]
  },
  {
   "cell_type": "code",
   "execution_count": 5,
   "id": "c2a9b1c8-de1f-442c-b4f4-9e6f829f19fa",
   "metadata": {},
   "outputs": [
    {
     "data": {
      "text/plain": [
       "C"
      ]
     },
     "execution_count": 5,
     "metadata": {},
     "output_type": "execute_result"
    }
   ],
   "source": [
    "\"midChar\".midChar()"
   ]
  },
  {
   "cell_type": "markdown",
   "id": "5b83a113-660e-4fd7-844c-d486538da158",
   "metadata": {},
   "source": [
    "#### Lambda for extension function"
   ]
  },
  {
   "cell_type": "code",
   "execution_count": 6,
   "id": "4d311cba-ad23-4938-9dcd-1fe411d62d49",
   "metadata": {},
   "outputs": [
    {
     "data": {
      "text/plain": [
       "p"
      ]
     },
     "execution_count": 6,
     "metadata": {},
     "output_type": "execute_result"
    }
   ],
   "source": [
    "val midCharExtFun : String.() -> Char = { this[this.length/2] }\n",
    "\n",
    "midCharExtFun(\"apply\")"
   ]
  },
  {
   "cell_type": "markdown",
   "id": "6eca26de-0547-4099-8da2-c1c85cce7639",
   "metadata": {},
   "source": [
    "#### Function accepting lambda for extension function"
   ]
  },
  {
   "cell_type": "code",
   "execution_count": 7,
   "id": "70290a9a-56b7-4462-a3df-f9195c5e9d94",
   "metadata": {},
   "outputs": [
    {
     "name": "stdout",
     "output_type": "stream",
     "text": [
      "c\n",
      "w\n",
      "e\n",
      "m\n"
     ]
    }
   ],
   "source": [
    "fun operate(stringOperation : String.()->Char){\n",
    "    println(stringOperation(\"welcome\"))\n",
    "}\n",
    "\n",
    "operate(midCharExtFun)\n",
    "operate(String::first)\n",
    "operate(String::last)\n",
    "\n",
    "operate{\n",
    "    this[length-2]\n",
    "}"
   ]
  },
  {
   "cell_type": "code",
   "execution_count": 8,
   "id": "502ad92f-4416-4ecf-ba52-18de01d40427",
   "metadata": {},
   "outputs": [
    {
     "name": "stdout",
     "output_type": "stream",
     "text": [
      "ient\n",
      "fault\n"
     ]
    }
   ],
   "source": [
    "fun operate(operand: String=\"default\",operation : String.()->String){\n",
    "    println(operation(operand))\n",
    "}\n",
    "\n",
    "// Lambda is passed to the operate function and it passes the receiver object (operand) to the lambda, \n",
    "// which we are accessing with the 'this' keyword. Even we can access the fields and functions inside the lamda body (without 'this')\n",
    "\n",
    "operate(\"patient\"){\n",
    "    this.substring(3)\n",
    "}\n",
    "\n",
    "operate{\n",
    "    this.substring(2)\n",
    "}"
   ]
  },
  {
   "cell_type": "markdown",
   "id": "663855cf-0263-421b-9463-4c77a168e660",
   "metadata": {},
   "source": [
    "#### TODO : Can we create lambdas simulating the when (with and without parameter) ?"
   ]
  },
  {
   "cell_type": "code",
   "execution_count": null,
   "id": "681abea8-cdc3-4ecf-958b-5de55d581178",
   "metadata": {},
   "outputs": [],
   "source": []
  }
 ],
 "metadata": {
  "kernelspec": {
   "display_name": "Kotlin",
   "language": "kotlin",
   "name": "kotlin"
  },
  "language_info": {
   "codemirror_mode": "text/x-kotlin",
   "file_extension": ".kt",
   "mimetype": "text/x-kotlin",
   "name": "kotlin",
   "nbconvert_exporter": "",
   "pygments_lexer": "kotlin",
   "version": "1.6.20-dev-3702"
  }
 },
 "nbformat": 4,
 "nbformat_minor": 5
}
