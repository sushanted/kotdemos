{
 "cells": [
  {
   "cell_type": "code",
   "execution_count": 2,
   "id": "c582e1ca-dc40-4552-a68d-2061f447d65c",
   "metadata": {},
   "outputs": [
    {
     "name": "stdout",
     "output_type": "stream",
     "text": [
      "Hello\n",
      "string\n"
     ]
    }
   ],
   "source": [
    "var x = {\n",
    "    println(\"Hello\")\n",
    "    \"string\"\n",
    "}\n",
    "\n",
    "println(x())"
   ]
  },
  {
   "cell_type": "code",
   "execution_count": 1,
   "id": "61c4edd1-300d-466c-8ec5-64737a922573",
   "metadata": {},
   "outputs": [
    {
     "name": "stderr",
     "output_type": "stream",
     "text": [
      "Line_0.jupyter-kts (1:9 - 10) Unresolved reference: x"
     ]
    }
   ],
   "source": [
    "println(x)\n",
    "\n",
    "\n"
   ]
  },
  {
   "cell_type": "markdown",
   "id": "663855cf-0263-421b-9463-4c77a168e660",
   "metadata": {},
   "source": [
    "#### TODO : Can we create lambdas simulating the when (with and without parameter) ?"
   ]
  },
  {
   "cell_type": "code",
   "execution_count": null,
   "id": "681abea8-cdc3-4ecf-958b-5de55d581178",
   "metadata": {},
   "outputs": [],
   "source": []
  }
 ],
 "metadata": {
  "kernelspec": {
   "display_name": "Kotlin",
   "language": "kotlin",
   "name": "kotlin"
  },
  "language_info": {
   "codemirror_mode": "text/x-kotlin",
   "file_extension": ".kt",
   "mimetype": "text/x-kotlin",
   "name": "kotlin",
   "nbconvert_exporter": "",
   "pygments_lexer": "kotlin",
   "version": "1.6.20-dev-3702"
  }
 },
 "nbformat": 4,
 "nbformat_minor": 5
}
